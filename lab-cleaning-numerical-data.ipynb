{
 "cells": [
  {
   "cell_type": "markdown",
   "id": "c2623b43",
   "metadata": {},
   "source": [
    "# Lab | Cleaning numerical data"
   ]
  },
  {
   "cell_type": "markdown",
   "id": "1bb32bce",
   "metadata": {},
   "source": [
    "### 1.Import the necessary libraries."
   ]
  },
  {
   "cell_type": "code",
   "execution_count": 1,
   "id": "b68ce71d",
   "metadata": {},
   "outputs": [],
   "source": [
    "import pandas as pd\n",
    "import seaborn as sns\n",
    "import matplotlib.pyplot as plt\n",
    "import numpy as np"
   ]
  },
  {
   "cell_type": "markdown",
   "id": "dfae8638",
   "metadata": {},
   "source": [
    "### 2.Load the customer_value_analysis.csv into the variable customer_df. "
   ]
  },
  {
   "cell_type": "code",
   "execution_count": 3,
   "id": "4b62bd24",
   "metadata": {},
   "outputs": [
    {
     "data": {
      "text/plain": [
       "(9134, 24)"
      ]
     },
     "metadata": {},
     "output_type": "display_data"
    },
    {
     "data": {
      "text/html": [
       "<div>\n",
       "<style scoped>\n",
       "    .dataframe tbody tr th:only-of-type {\n",
       "        vertical-align: middle;\n",
       "    }\n",
       "\n",
       "    .dataframe tbody tr th {\n",
       "        vertical-align: top;\n",
       "    }\n",
       "\n",
       "    .dataframe thead th {\n",
       "        text-align: right;\n",
       "    }\n",
       "</style>\n",
       "<table border=\"1\" class=\"dataframe\">\n",
       "  <thead>\n",
       "    <tr style=\"text-align: right;\">\n",
       "      <th></th>\n",
       "      <th>Customer</th>\n",
       "      <th>State</th>\n",
       "      <th>Customer Lifetime Value</th>\n",
       "      <th>Response</th>\n",
       "      <th>Coverage</th>\n",
       "      <th>Education</th>\n",
       "      <th>Effective To Date</th>\n",
       "      <th>EmploymentStatus</th>\n",
       "      <th>Gender</th>\n",
       "      <th>Income</th>\n",
       "      <th>...</th>\n",
       "      <th>Months Since Policy Inception</th>\n",
       "      <th>Number of Open Complaints</th>\n",
       "      <th>Number of Policies</th>\n",
       "      <th>Policy Type</th>\n",
       "      <th>Policy</th>\n",
       "      <th>Renew Offer Type</th>\n",
       "      <th>Sales Channel</th>\n",
       "      <th>Total Claim Amount</th>\n",
       "      <th>Vehicle Class</th>\n",
       "      <th>Vehicle Size</th>\n",
       "    </tr>\n",
       "  </thead>\n",
       "  <tbody>\n",
       "    <tr>\n",
       "      <th>0</th>\n",
       "      <td>BU79786</td>\n",
       "      <td>Washington</td>\n",
       "      <td>2763.519279</td>\n",
       "      <td>No</td>\n",
       "      <td>Basic</td>\n",
       "      <td>Bachelor</td>\n",
       "      <td>2/24/11</td>\n",
       "      <td>Employed</td>\n",
       "      <td>F</td>\n",
       "      <td>56274</td>\n",
       "      <td>...</td>\n",
       "      <td>5</td>\n",
       "      <td>0</td>\n",
       "      <td>1</td>\n",
       "      <td>Corporate Auto</td>\n",
       "      <td>Corporate L3</td>\n",
       "      <td>Offer1</td>\n",
       "      <td>Agent</td>\n",
       "      <td>384.811147</td>\n",
       "      <td>Two-Door Car</td>\n",
       "      <td>Medsize</td>\n",
       "    </tr>\n",
       "    <tr>\n",
       "      <th>1</th>\n",
       "      <td>QZ44356</td>\n",
       "      <td>Arizona</td>\n",
       "      <td>6979.535903</td>\n",
       "      <td>No</td>\n",
       "      <td>Extended</td>\n",
       "      <td>Bachelor</td>\n",
       "      <td>1/31/11</td>\n",
       "      <td>Unemployed</td>\n",
       "      <td>F</td>\n",
       "      <td>0</td>\n",
       "      <td>...</td>\n",
       "      <td>42</td>\n",
       "      <td>0</td>\n",
       "      <td>8</td>\n",
       "      <td>Personal Auto</td>\n",
       "      <td>Personal L3</td>\n",
       "      <td>Offer3</td>\n",
       "      <td>Agent</td>\n",
       "      <td>1131.464935</td>\n",
       "      <td>Four-Door Car</td>\n",
       "      <td>Medsize</td>\n",
       "    </tr>\n",
       "    <tr>\n",
       "      <th>2</th>\n",
       "      <td>AI49188</td>\n",
       "      <td>Nevada</td>\n",
       "      <td>12887.431650</td>\n",
       "      <td>No</td>\n",
       "      <td>Premium</td>\n",
       "      <td>Bachelor</td>\n",
       "      <td>2/19/11</td>\n",
       "      <td>Employed</td>\n",
       "      <td>F</td>\n",
       "      <td>48767</td>\n",
       "      <td>...</td>\n",
       "      <td>38</td>\n",
       "      <td>0</td>\n",
       "      <td>2</td>\n",
       "      <td>Personal Auto</td>\n",
       "      <td>Personal L3</td>\n",
       "      <td>Offer1</td>\n",
       "      <td>Agent</td>\n",
       "      <td>566.472247</td>\n",
       "      <td>Two-Door Car</td>\n",
       "      <td>Medsize</td>\n",
       "    </tr>\n",
       "    <tr>\n",
       "      <th>3</th>\n",
       "      <td>WW63253</td>\n",
       "      <td>California</td>\n",
       "      <td>7645.861827</td>\n",
       "      <td>No</td>\n",
       "      <td>Basic</td>\n",
       "      <td>Bachelor</td>\n",
       "      <td>1/20/11</td>\n",
       "      <td>Unemployed</td>\n",
       "      <td>M</td>\n",
       "      <td>0</td>\n",
       "      <td>...</td>\n",
       "      <td>65</td>\n",
       "      <td>0</td>\n",
       "      <td>7</td>\n",
       "      <td>Corporate Auto</td>\n",
       "      <td>Corporate L2</td>\n",
       "      <td>Offer1</td>\n",
       "      <td>Call Center</td>\n",
       "      <td>529.881344</td>\n",
       "      <td>SUV</td>\n",
       "      <td>Medsize</td>\n",
       "    </tr>\n",
       "    <tr>\n",
       "      <th>4</th>\n",
       "      <td>HB64268</td>\n",
       "      <td>Washington</td>\n",
       "      <td>2813.692575</td>\n",
       "      <td>No</td>\n",
       "      <td>Basic</td>\n",
       "      <td>Bachelor</td>\n",
       "      <td>2/3/11</td>\n",
       "      <td>Employed</td>\n",
       "      <td>M</td>\n",
       "      <td>43836</td>\n",
       "      <td>...</td>\n",
       "      <td>44</td>\n",
       "      <td>0</td>\n",
       "      <td>1</td>\n",
       "      <td>Personal Auto</td>\n",
       "      <td>Personal L1</td>\n",
       "      <td>Offer1</td>\n",
       "      <td>Agent</td>\n",
       "      <td>138.130879</td>\n",
       "      <td>Four-Door Car</td>\n",
       "      <td>Medsize</td>\n",
       "    </tr>\n",
       "  </tbody>\n",
       "</table>\n",
       "<p>5 rows × 24 columns</p>\n",
       "</div>"
      ],
      "text/plain": [
       "  Customer       State  Customer Lifetime Value Response  Coverage Education  \\\n",
       "0  BU79786  Washington              2763.519279       No     Basic  Bachelor   \n",
       "1  QZ44356     Arizona              6979.535903       No  Extended  Bachelor   \n",
       "2  AI49188      Nevada             12887.431650       No   Premium  Bachelor   \n",
       "3  WW63253  California              7645.861827       No     Basic  Bachelor   \n",
       "4  HB64268  Washington              2813.692575       No     Basic  Bachelor   \n",
       "\n",
       "  Effective To Date EmploymentStatus Gender  Income  ...  \\\n",
       "0           2/24/11         Employed      F   56274  ...   \n",
       "1           1/31/11       Unemployed      F       0  ...   \n",
       "2           2/19/11         Employed      F   48767  ...   \n",
       "3           1/20/11       Unemployed      M       0  ...   \n",
       "4            2/3/11         Employed      M   43836  ...   \n",
       "\n",
       "  Months Since Policy Inception Number of Open Complaints  Number of Policies  \\\n",
       "0                             5                         0                   1   \n",
       "1                            42                         0                   8   \n",
       "2                            38                         0                   2   \n",
       "3                            65                         0                   7   \n",
       "4                            44                         0                   1   \n",
       "\n",
       "      Policy Type        Policy  Renew Offer Type  Sales Channel  \\\n",
       "0  Corporate Auto  Corporate L3            Offer1          Agent   \n",
       "1   Personal Auto   Personal L3            Offer3          Agent   \n",
       "2   Personal Auto   Personal L3            Offer1          Agent   \n",
       "3  Corporate Auto  Corporate L2            Offer1    Call Center   \n",
       "4   Personal Auto   Personal L1            Offer1          Agent   \n",
       "\n",
       "  Total Claim Amount  Vehicle Class Vehicle Size  \n",
       "0         384.811147   Two-Door Car      Medsize  \n",
       "1        1131.464935  Four-Door Car      Medsize  \n",
       "2         566.472247   Two-Door Car      Medsize  \n",
       "3         529.881344            SUV      Medsize  \n",
       "4         138.130879  Four-Door Car      Medsize  \n",
       "\n",
       "[5 rows x 24 columns]"
      ]
     },
     "execution_count": 3,
     "metadata": {},
     "output_type": "execute_result"
    }
   ],
   "source": [
    "data = pd.read_csv('files_for_lab/we_fn_use_c_marketing_customer_value_analysis.csv')\n",
    "display(data.shape)\n",
    "data.head()"
   ]
  },
  {
   "cell_type": "markdown",
   "id": "571fe54b",
   "metadata": {},
   "source": [
    "### 3.First look at its main features (head, shape, info)."
   ]
  },
  {
   "cell_type": "code",
   "execution_count": 4,
   "id": "c3f32b4b",
   "metadata": {},
   "outputs": [
    {
     "data": {
      "text/html": [
       "<div>\n",
       "<style scoped>\n",
       "    .dataframe tbody tr th:only-of-type {\n",
       "        vertical-align: middle;\n",
       "    }\n",
       "\n",
       "    .dataframe tbody tr th {\n",
       "        vertical-align: top;\n",
       "    }\n",
       "\n",
       "    .dataframe thead th {\n",
       "        text-align: right;\n",
       "    }\n",
       "</style>\n",
       "<table border=\"1\" class=\"dataframe\">\n",
       "  <thead>\n",
       "    <tr style=\"text-align: right;\">\n",
       "      <th></th>\n",
       "      <th>Customer</th>\n",
       "      <th>State</th>\n",
       "      <th>Customer Lifetime Value</th>\n",
       "      <th>Response</th>\n",
       "      <th>Coverage</th>\n",
       "      <th>Education</th>\n",
       "      <th>Effective To Date</th>\n",
       "      <th>EmploymentStatus</th>\n",
       "      <th>Gender</th>\n",
       "      <th>Income</th>\n",
       "      <th>...</th>\n",
       "      <th>Months Since Policy Inception</th>\n",
       "      <th>Number of Open Complaints</th>\n",
       "      <th>Number of Policies</th>\n",
       "      <th>Policy Type</th>\n",
       "      <th>Policy</th>\n",
       "      <th>Renew Offer Type</th>\n",
       "      <th>Sales Channel</th>\n",
       "      <th>Total Claim Amount</th>\n",
       "      <th>Vehicle Class</th>\n",
       "      <th>Vehicle Size</th>\n",
       "    </tr>\n",
       "  </thead>\n",
       "  <tbody>\n",
       "    <tr>\n",
       "      <th>0</th>\n",
       "      <td>BU79786</td>\n",
       "      <td>Washington</td>\n",
       "      <td>2763.519279</td>\n",
       "      <td>No</td>\n",
       "      <td>Basic</td>\n",
       "      <td>Bachelor</td>\n",
       "      <td>2/24/11</td>\n",
       "      <td>Employed</td>\n",
       "      <td>F</td>\n",
       "      <td>56274</td>\n",
       "      <td>...</td>\n",
       "      <td>5</td>\n",
       "      <td>0</td>\n",
       "      <td>1</td>\n",
       "      <td>Corporate Auto</td>\n",
       "      <td>Corporate L3</td>\n",
       "      <td>Offer1</td>\n",
       "      <td>Agent</td>\n",
       "      <td>384.811147</td>\n",
       "      <td>Two-Door Car</td>\n",
       "      <td>Medsize</td>\n",
       "    </tr>\n",
       "    <tr>\n",
       "      <th>1</th>\n",
       "      <td>QZ44356</td>\n",
       "      <td>Arizona</td>\n",
       "      <td>6979.535903</td>\n",
       "      <td>No</td>\n",
       "      <td>Extended</td>\n",
       "      <td>Bachelor</td>\n",
       "      <td>1/31/11</td>\n",
       "      <td>Unemployed</td>\n",
       "      <td>F</td>\n",
       "      <td>0</td>\n",
       "      <td>...</td>\n",
       "      <td>42</td>\n",
       "      <td>0</td>\n",
       "      <td>8</td>\n",
       "      <td>Personal Auto</td>\n",
       "      <td>Personal L3</td>\n",
       "      <td>Offer3</td>\n",
       "      <td>Agent</td>\n",
       "      <td>1131.464935</td>\n",
       "      <td>Four-Door Car</td>\n",
       "      <td>Medsize</td>\n",
       "    </tr>\n",
       "    <tr>\n",
       "      <th>2</th>\n",
       "      <td>AI49188</td>\n",
       "      <td>Nevada</td>\n",
       "      <td>12887.431650</td>\n",
       "      <td>No</td>\n",
       "      <td>Premium</td>\n",
       "      <td>Bachelor</td>\n",
       "      <td>2/19/11</td>\n",
       "      <td>Employed</td>\n",
       "      <td>F</td>\n",
       "      <td>48767</td>\n",
       "      <td>...</td>\n",
       "      <td>38</td>\n",
       "      <td>0</td>\n",
       "      <td>2</td>\n",
       "      <td>Personal Auto</td>\n",
       "      <td>Personal L3</td>\n",
       "      <td>Offer1</td>\n",
       "      <td>Agent</td>\n",
       "      <td>566.472247</td>\n",
       "      <td>Two-Door Car</td>\n",
       "      <td>Medsize</td>\n",
       "    </tr>\n",
       "    <tr>\n",
       "      <th>3</th>\n",
       "      <td>WW63253</td>\n",
       "      <td>California</td>\n",
       "      <td>7645.861827</td>\n",
       "      <td>No</td>\n",
       "      <td>Basic</td>\n",
       "      <td>Bachelor</td>\n",
       "      <td>1/20/11</td>\n",
       "      <td>Unemployed</td>\n",
       "      <td>M</td>\n",
       "      <td>0</td>\n",
       "      <td>...</td>\n",
       "      <td>65</td>\n",
       "      <td>0</td>\n",
       "      <td>7</td>\n",
       "      <td>Corporate Auto</td>\n",
       "      <td>Corporate L2</td>\n",
       "      <td>Offer1</td>\n",
       "      <td>Call Center</td>\n",
       "      <td>529.881344</td>\n",
       "      <td>SUV</td>\n",
       "      <td>Medsize</td>\n",
       "    </tr>\n",
       "    <tr>\n",
       "      <th>4</th>\n",
       "      <td>HB64268</td>\n",
       "      <td>Washington</td>\n",
       "      <td>2813.692575</td>\n",
       "      <td>No</td>\n",
       "      <td>Basic</td>\n",
       "      <td>Bachelor</td>\n",
       "      <td>2/3/11</td>\n",
       "      <td>Employed</td>\n",
       "      <td>M</td>\n",
       "      <td>43836</td>\n",
       "      <td>...</td>\n",
       "      <td>44</td>\n",
       "      <td>0</td>\n",
       "      <td>1</td>\n",
       "      <td>Personal Auto</td>\n",
       "      <td>Personal L1</td>\n",
       "      <td>Offer1</td>\n",
       "      <td>Agent</td>\n",
       "      <td>138.130879</td>\n",
       "      <td>Four-Door Car</td>\n",
       "      <td>Medsize</td>\n",
       "    </tr>\n",
       "  </tbody>\n",
       "</table>\n",
       "<p>5 rows × 24 columns</p>\n",
       "</div>"
      ],
      "text/plain": [
       "  Customer       State  Customer Lifetime Value Response  Coverage Education  \\\n",
       "0  BU79786  Washington              2763.519279       No     Basic  Bachelor   \n",
       "1  QZ44356     Arizona              6979.535903       No  Extended  Bachelor   \n",
       "2  AI49188      Nevada             12887.431650       No   Premium  Bachelor   \n",
       "3  WW63253  California              7645.861827       No     Basic  Bachelor   \n",
       "4  HB64268  Washington              2813.692575       No     Basic  Bachelor   \n",
       "\n",
       "  Effective To Date EmploymentStatus Gender  Income  ...  \\\n",
       "0           2/24/11         Employed      F   56274  ...   \n",
       "1           1/31/11       Unemployed      F       0  ...   \n",
       "2           2/19/11         Employed      F   48767  ...   \n",
       "3           1/20/11       Unemployed      M       0  ...   \n",
       "4            2/3/11         Employed      M   43836  ...   \n",
       "\n",
       "  Months Since Policy Inception Number of Open Complaints  Number of Policies  \\\n",
       "0                             5                         0                   1   \n",
       "1                            42                         0                   8   \n",
       "2                            38                         0                   2   \n",
       "3                            65                         0                   7   \n",
       "4                            44                         0                   1   \n",
       "\n",
       "      Policy Type        Policy  Renew Offer Type  Sales Channel  \\\n",
       "0  Corporate Auto  Corporate L3            Offer1          Agent   \n",
       "1   Personal Auto   Personal L3            Offer3          Agent   \n",
       "2   Personal Auto   Personal L3            Offer1          Agent   \n",
       "3  Corporate Auto  Corporate L2            Offer1    Call Center   \n",
       "4   Personal Auto   Personal L1            Offer1          Agent   \n",
       "\n",
       "  Total Claim Amount  Vehicle Class Vehicle Size  \n",
       "0         384.811147   Two-Door Car      Medsize  \n",
       "1        1131.464935  Four-Door Car      Medsize  \n",
       "2         566.472247   Two-Door Car      Medsize  \n",
       "3         529.881344            SUV      Medsize  \n",
       "4         138.130879  Four-Door Car      Medsize  \n",
       "\n",
       "[5 rows x 24 columns]"
      ]
     },
     "metadata": {},
     "output_type": "display_data"
    },
    {
     "data": {
      "text/plain": [
       "(9134, 24)"
      ]
     },
     "metadata": {},
     "output_type": "display_data"
    },
    {
     "name": "stdout",
     "output_type": "stream",
     "text": [
      "<class 'pandas.core.frame.DataFrame'>\n",
      "RangeIndex: 9134 entries, 0 to 9133\n",
      "Data columns (total 24 columns):\n",
      " #   Column                         Non-Null Count  Dtype  \n",
      "---  ------                         --------------  -----  \n",
      " 0   Customer                       9134 non-null   object \n",
      " 1   State                          9134 non-null   object \n",
      " 2   Customer Lifetime Value        9134 non-null   float64\n",
      " 3   Response                       9134 non-null   object \n",
      " 4   Coverage                       9134 non-null   object \n",
      " 5   Education                      9134 non-null   object \n",
      " 6   Effective To Date              9134 non-null   object \n",
      " 7   EmploymentStatus               9134 non-null   object \n",
      " 8   Gender                         9134 non-null   object \n",
      " 9   Income                         9134 non-null   int64  \n",
      " 10  Location Code                  9134 non-null   object \n",
      " 11  Marital Status                 9134 non-null   object \n",
      " 12  Monthly Premium Auto           9134 non-null   int64  \n",
      " 13  Months Since Last Claim        9134 non-null   int64  \n",
      " 14  Months Since Policy Inception  9134 non-null   int64  \n",
      " 15  Number of Open Complaints      9134 non-null   int64  \n",
      " 16  Number of Policies             9134 non-null   int64  \n",
      " 17  Policy Type                    9134 non-null   object \n",
      " 18  Policy                         9134 non-null   object \n",
      " 19  Renew Offer Type               9134 non-null   object \n",
      " 20  Sales Channel                  9134 non-null   object \n",
      " 21  Total Claim Amount             9134 non-null   float64\n",
      " 22  Vehicle Class                  9134 non-null   object \n",
      " 23  Vehicle Size                   9134 non-null   object \n",
      "dtypes: float64(2), int64(6), object(16)\n",
      "memory usage: 1.7+ MB\n"
     ]
    },
    {
     "data": {
      "text/plain": [
       "None"
      ]
     },
     "metadata": {},
     "output_type": "display_data"
    }
   ],
   "source": [
    "display(data.head())\n",
    "display(data.shape)\n",
    "display(data.info())"
   ]
  },
  {
   "cell_type": "markdown",
   "id": "405e98c3",
   "metadata": {},
   "source": [
    "### 4. Rename the columns so they follow the PE8 (snake case: lowecase_with_underscores)"
   ]
  },
  {
   "cell_type": "code",
   "execution_count": 6,
   "id": "91d38ee9",
   "metadata": {},
   "outputs": [
    {
     "data": {
      "text/plain": [
       "Index(['customer', 'state', 'customer_lifetime_value', 'response', 'coverage',\n",
       "       'education', 'effective_to_date', 'employmentstatus', 'gender',\n",
       "       'income', 'location_code', 'marital_status', 'monthly_premium_auto',\n",
       "       'months_since_last_claim', 'months_since_policy_inception',\n",
       "       'number_of_open_complaints', 'number_of_policies', 'policy_type',\n",
       "       'policy', 'renew_offer_type', 'sales_channel', 'total_claim_amount',\n",
       "       'vehicle_class', 'vehicle_size'],\n",
       "      dtype='object')"
      ]
     },
     "execution_count": 6,
     "metadata": {},
     "output_type": "execute_result"
    }
   ],
   "source": [
    "data1 = data.copy()\n",
    "data.columns = data.columns.str.lower().str.replace(' ', '_')\n",
    "data.columns"
   ]
  },
  {
   "cell_type": "code",
   "execution_count": 7,
   "id": "f4e697af",
   "metadata": {},
   "outputs": [
    {
     "data": {
      "text/plain": [
       "Index(['customer', 'state', 'customer_lifetime_value', 'response', 'coverage',\n",
       "       'education', 'effective_to_date', 'employment_status', 'gender',\n",
       "       'income', 'location_code', 'marital_status', 'monthly_premium_auto',\n",
       "       'months_since_last_claim', 'months_since_policy_inception',\n",
       "       'number_of_open_complaints', 'number_of_policies', 'policy_type',\n",
       "       'policy', 'renew_offer_type', 'sales_channel', 'total_claim_amount',\n",
       "       'vehicle_class', 'vehicle_size'],\n",
       "      dtype='object')"
      ]
     },
     "execution_count": 7,
     "metadata": {},
     "output_type": "execute_result"
    }
   ],
   "source": [
    "#manually change the column of 'employmentstatus'\n",
    "data = data.rename(columns={'employmentstatus':'employment_status'})\n",
    "data.columns"
   ]
  },
  {
   "cell_type": "markdown",
   "id": "f099d904",
   "metadata": {},
   "source": [
    "### 5. Change the type of effective_to_date column to DateTime format"
   ]
  },
  {
   "cell_type": "code",
   "execution_count": 8,
   "id": "6eb7fa2f",
   "metadata": {},
   "outputs": [
    {
     "name": "stdout",
     "output_type": "stream",
     "text": [
      "customer                                 object\n",
      "state                                    object\n",
      "customer_lifetime_value                 float64\n",
      "response                                 object\n",
      "coverage                                 object\n",
      "education                                object\n",
      "effective_to_date                datetime64[ns]\n",
      "employment_status                        object\n",
      "gender                                   object\n",
      "income                                    int64\n",
      "location_code                            object\n",
      "marital_status                           object\n",
      "monthly_premium_auto                      int64\n",
      "months_since_last_claim                   int64\n",
      "months_since_policy_inception             int64\n",
      "number_of_open_complaints                 int64\n",
      "number_of_policies                        int64\n",
      "policy_type                              object\n",
      "policy                                   object\n",
      "renew_offer_type                         object\n",
      "sales_channel                            object\n",
      "total_claim_amount                      float64\n",
      "vehicle_class                            object\n",
      "vehicle_size                             object\n",
      "dtype: object\n"
     ]
    }
   ],
   "source": [
    "from datetime import datetime\n",
    "# Convert \"effective_to_date\" column to DateTime format\n",
    "data['effective_to_date'] = pd.to_datetime(data['effective_to_date'])\n",
    "\n",
    "# Display the updated data types\n",
    "print(data.dtypes)"
   ]
  },
  {
   "cell_type": "markdown",
   "id": "dd94af01",
   "metadata": {},
   "source": [
    "### 6. Check NaN values per column."
   ]
  },
  {
   "cell_type": "code",
   "execution_count": 10,
   "id": "3fe889c4",
   "metadata": {},
   "outputs": [
    {
     "data": {
      "text/plain": [
       "customer                         0\n",
       "state                            0\n",
       "customer_lifetime_value          0\n",
       "response                         0\n",
       "coverage                         0\n",
       "education                        0\n",
       "effective_to_date                0\n",
       "employment_status                0\n",
       "gender                           0\n",
       "income                           0\n",
       "location_code                    0\n",
       "marital_status                   0\n",
       "monthly_premium_auto             0\n",
       "months_since_last_claim          0\n",
       "months_since_policy_inception    0\n",
       "number_of_open_complaints        0\n",
       "number_of_policies               0\n",
       "policy_type                      0\n",
       "policy                           0\n",
       "renew_offer_type                 0\n",
       "sales_channel                    0\n",
       "total_claim_amount               0\n",
       "vehicle_class                    0\n",
       "vehicle_size                     0\n",
       "dtype: int64"
      ]
     },
     "execution_count": 10,
     "metadata": {},
     "output_type": "execute_result"
    }
   ],
   "source": [
    "#chack the null values\n",
    "data.isnull().sum()"
   ]
  },
  {
   "cell_type": "markdown",
   "id": "dca39c46",
   "metadata": {},
   "source": [
    "There are no null values. "
   ]
  },
  {
   "cell_type": "markdown",
   "id": "f450b2df",
   "metadata": {},
   "source": [
    "###  7. Define a function that given an input dataframe, returns two dataframes: one with numerical columns and another with categorical columns of the input dataframe."
   ]
  },
  {
   "cell_type": "code",
   "execution_count": 19,
   "id": "f8ca8a2c",
   "metadata": {},
   "outputs": [],
   "source": [
    "def separate_numerical_categorical(data: pd.DataFrame) -> pd.DataFrame:\n",
    "    '''\n",
    "    This function separate data into one with numerical columns and one with categorical columns\n",
    "    \n",
    "    Input: pd.DataFrame\n",
    "    Output: two types of pd.DataFrame\n",
    "    '''\n",
    "    numerical_df = data.select_dtypes(np.number)\n",
    "    categorical_df = data.select_dtypes('object')\n",
    "\n",
    "    return numerical_df, categorical_df"
   ]
  },
  {
   "cell_type": "code",
   "execution_count": 20,
   "id": "3faeb5c6",
   "metadata": {},
   "outputs": [
    {
     "data": {
      "text/html": [
       "<div>\n",
       "<style scoped>\n",
       "    .dataframe tbody tr th:only-of-type {\n",
       "        vertical-align: middle;\n",
       "    }\n",
       "\n",
       "    .dataframe tbody tr th {\n",
       "        vertical-align: top;\n",
       "    }\n",
       "\n",
       "    .dataframe thead th {\n",
       "        text-align: right;\n",
       "    }\n",
       "</style>\n",
       "<table border=\"1\" class=\"dataframe\">\n",
       "  <thead>\n",
       "    <tr style=\"text-align: right;\">\n",
       "      <th></th>\n",
       "      <th>customer_lifetime_value</th>\n",
       "      <th>income</th>\n",
       "      <th>monthly_premium_auto</th>\n",
       "      <th>months_since_last_claim</th>\n",
       "      <th>months_since_policy_inception</th>\n",
       "      <th>number_of_open_complaints</th>\n",
       "      <th>number_of_policies</th>\n",
       "      <th>total_claim_amount</th>\n",
       "    </tr>\n",
       "  </thead>\n",
       "  <tbody>\n",
       "    <tr>\n",
       "      <th>0</th>\n",
       "      <td>2763.519279</td>\n",
       "      <td>56274</td>\n",
       "      <td>69</td>\n",
       "      <td>32</td>\n",
       "      <td>5</td>\n",
       "      <td>0</td>\n",
       "      <td>1</td>\n",
       "      <td>384.811147</td>\n",
       "    </tr>\n",
       "    <tr>\n",
       "      <th>1</th>\n",
       "      <td>6979.535903</td>\n",
       "      <td>0</td>\n",
       "      <td>94</td>\n",
       "      <td>13</td>\n",
       "      <td>42</td>\n",
       "      <td>0</td>\n",
       "      <td>8</td>\n",
       "      <td>1131.464935</td>\n",
       "    </tr>\n",
       "    <tr>\n",
       "      <th>2</th>\n",
       "      <td>12887.431650</td>\n",
       "      <td>48767</td>\n",
       "      <td>108</td>\n",
       "      <td>18</td>\n",
       "      <td>38</td>\n",
       "      <td>0</td>\n",
       "      <td>2</td>\n",
       "      <td>566.472247</td>\n",
       "    </tr>\n",
       "    <tr>\n",
       "      <th>3</th>\n",
       "      <td>7645.861827</td>\n",
       "      <td>0</td>\n",
       "      <td>106</td>\n",
       "      <td>18</td>\n",
       "      <td>65</td>\n",
       "      <td>0</td>\n",
       "      <td>7</td>\n",
       "      <td>529.881344</td>\n",
       "    </tr>\n",
       "    <tr>\n",
       "      <th>4</th>\n",
       "      <td>2813.692575</td>\n",
       "      <td>43836</td>\n",
       "      <td>73</td>\n",
       "      <td>12</td>\n",
       "      <td>44</td>\n",
       "      <td>0</td>\n",
       "      <td>1</td>\n",
       "      <td>138.130879</td>\n",
       "    </tr>\n",
       "  </tbody>\n",
       "</table>\n",
       "</div>"
      ],
      "text/plain": [
       "   customer_lifetime_value  income  monthly_premium_auto  \\\n",
       "0              2763.519279   56274                    69   \n",
       "1              6979.535903       0                    94   \n",
       "2             12887.431650   48767                   108   \n",
       "3              7645.861827       0                   106   \n",
       "4              2813.692575   43836                    73   \n",
       "\n",
       "   months_since_last_claim  months_since_policy_inception  \\\n",
       "0                       32                              5   \n",
       "1                       13                             42   \n",
       "2                       18                             38   \n",
       "3                       18                             65   \n",
       "4                       12                             44   \n",
       "\n",
       "   number_of_open_complaints  number_of_policies  total_claim_amount  \n",
       "0                          0                   1          384.811147  \n",
       "1                          0                   8         1131.464935  \n",
       "2                          0                   2          566.472247  \n",
       "3                          0                   7          529.881344  \n",
       "4                          0                   1          138.130879  "
      ]
     },
     "metadata": {},
     "output_type": "display_data"
    },
    {
     "data": {
      "text/html": [
       "<div>\n",
       "<style scoped>\n",
       "    .dataframe tbody tr th:only-of-type {\n",
       "        vertical-align: middle;\n",
       "    }\n",
       "\n",
       "    .dataframe tbody tr th {\n",
       "        vertical-align: top;\n",
       "    }\n",
       "\n",
       "    .dataframe thead th {\n",
       "        text-align: right;\n",
       "    }\n",
       "</style>\n",
       "<table border=\"1\" class=\"dataframe\">\n",
       "  <thead>\n",
       "    <tr style=\"text-align: right;\">\n",
       "      <th></th>\n",
       "      <th>customer</th>\n",
       "      <th>state</th>\n",
       "      <th>response</th>\n",
       "      <th>coverage</th>\n",
       "      <th>education</th>\n",
       "      <th>employment_status</th>\n",
       "      <th>gender</th>\n",
       "      <th>location_code</th>\n",
       "      <th>marital_status</th>\n",
       "      <th>policy_type</th>\n",
       "      <th>policy</th>\n",
       "      <th>renew_offer_type</th>\n",
       "      <th>sales_channel</th>\n",
       "      <th>vehicle_class</th>\n",
       "      <th>vehicle_size</th>\n",
       "    </tr>\n",
       "  </thead>\n",
       "  <tbody>\n",
       "    <tr>\n",
       "      <th>0</th>\n",
       "      <td>BU79786</td>\n",
       "      <td>Washington</td>\n",
       "      <td>No</td>\n",
       "      <td>Basic</td>\n",
       "      <td>Bachelor</td>\n",
       "      <td>Employed</td>\n",
       "      <td>F</td>\n",
       "      <td>Suburban</td>\n",
       "      <td>Married</td>\n",
       "      <td>Corporate Auto</td>\n",
       "      <td>Corporate L3</td>\n",
       "      <td>Offer1</td>\n",
       "      <td>Agent</td>\n",
       "      <td>Two-Door Car</td>\n",
       "      <td>Medsize</td>\n",
       "    </tr>\n",
       "    <tr>\n",
       "      <th>1</th>\n",
       "      <td>QZ44356</td>\n",
       "      <td>Arizona</td>\n",
       "      <td>No</td>\n",
       "      <td>Extended</td>\n",
       "      <td>Bachelor</td>\n",
       "      <td>Unemployed</td>\n",
       "      <td>F</td>\n",
       "      <td>Suburban</td>\n",
       "      <td>Single</td>\n",
       "      <td>Personal Auto</td>\n",
       "      <td>Personal L3</td>\n",
       "      <td>Offer3</td>\n",
       "      <td>Agent</td>\n",
       "      <td>Four-Door Car</td>\n",
       "      <td>Medsize</td>\n",
       "    </tr>\n",
       "    <tr>\n",
       "      <th>2</th>\n",
       "      <td>AI49188</td>\n",
       "      <td>Nevada</td>\n",
       "      <td>No</td>\n",
       "      <td>Premium</td>\n",
       "      <td>Bachelor</td>\n",
       "      <td>Employed</td>\n",
       "      <td>F</td>\n",
       "      <td>Suburban</td>\n",
       "      <td>Married</td>\n",
       "      <td>Personal Auto</td>\n",
       "      <td>Personal L3</td>\n",
       "      <td>Offer1</td>\n",
       "      <td>Agent</td>\n",
       "      <td>Two-Door Car</td>\n",
       "      <td>Medsize</td>\n",
       "    </tr>\n",
       "    <tr>\n",
       "      <th>3</th>\n",
       "      <td>WW63253</td>\n",
       "      <td>California</td>\n",
       "      <td>No</td>\n",
       "      <td>Basic</td>\n",
       "      <td>Bachelor</td>\n",
       "      <td>Unemployed</td>\n",
       "      <td>M</td>\n",
       "      <td>Suburban</td>\n",
       "      <td>Married</td>\n",
       "      <td>Corporate Auto</td>\n",
       "      <td>Corporate L2</td>\n",
       "      <td>Offer1</td>\n",
       "      <td>Call Center</td>\n",
       "      <td>SUV</td>\n",
       "      <td>Medsize</td>\n",
       "    </tr>\n",
       "    <tr>\n",
       "      <th>4</th>\n",
       "      <td>HB64268</td>\n",
       "      <td>Washington</td>\n",
       "      <td>No</td>\n",
       "      <td>Basic</td>\n",
       "      <td>Bachelor</td>\n",
       "      <td>Employed</td>\n",
       "      <td>M</td>\n",
       "      <td>Rural</td>\n",
       "      <td>Single</td>\n",
       "      <td>Personal Auto</td>\n",
       "      <td>Personal L1</td>\n",
       "      <td>Offer1</td>\n",
       "      <td>Agent</td>\n",
       "      <td>Four-Door Car</td>\n",
       "      <td>Medsize</td>\n",
       "    </tr>\n",
       "  </tbody>\n",
       "</table>\n",
       "</div>"
      ],
      "text/plain": [
       "  customer       state response  coverage education employment_status gender  \\\n",
       "0  BU79786  Washington       No     Basic  Bachelor          Employed      F   \n",
       "1  QZ44356     Arizona       No  Extended  Bachelor        Unemployed      F   \n",
       "2  AI49188      Nevada       No   Premium  Bachelor          Employed      F   \n",
       "3  WW63253  California       No     Basic  Bachelor        Unemployed      M   \n",
       "4  HB64268  Washington       No     Basic  Bachelor          Employed      M   \n",
       "\n",
       "  location_code marital_status     policy_type        policy renew_offer_type  \\\n",
       "0      Suburban        Married  Corporate Auto  Corporate L3           Offer1   \n",
       "1      Suburban         Single   Personal Auto   Personal L3           Offer3   \n",
       "2      Suburban        Married   Personal Auto   Personal L3           Offer1   \n",
       "3      Suburban        Married  Corporate Auto  Corporate L2           Offer1   \n",
       "4         Rural         Single   Personal Auto   Personal L1           Offer1   \n",
       "\n",
       "  sales_channel  vehicle_class vehicle_size  \n",
       "0         Agent   Two-Door Car      Medsize  \n",
       "1         Agent  Four-Door Car      Medsize  \n",
       "2         Agent   Two-Door Car      Medsize  \n",
       "3   Call Center            SUV      Medsize  \n",
       "4         Agent  Four-Door Car      Medsize  "
      ]
     },
     "metadata": {},
     "output_type": "display_data"
    }
   ],
   "source": [
    "numerical_categorical = separate_numerical_categorical(data)\n",
    "numericals = numerical_categorical[0]\n",
    "display(numericals.head())\n",
    "categorical = numerical_categorical[1]\n",
    "display(categorical.head())"
   ]
  },
  {
   "cell_type": "markdown",
   "id": "01584703",
   "metadata": {},
   "source": [
    "### 8. Drop any ID column."
   ]
  },
  {
   "cell_type": "code",
   "execution_count": 21,
   "id": "b14a54c9",
   "metadata": {},
   "outputs": [
    {
     "data": {
      "text/html": [
       "<div>\n",
       "<style scoped>\n",
       "    .dataframe tbody tr th:only-of-type {\n",
       "        vertical-align: middle;\n",
       "    }\n",
       "\n",
       "    .dataframe tbody tr th {\n",
       "        vertical-align: top;\n",
       "    }\n",
       "\n",
       "    .dataframe thead th {\n",
       "        text-align: right;\n",
       "    }\n",
       "</style>\n",
       "<table border=\"1\" class=\"dataframe\">\n",
       "  <thead>\n",
       "    <tr style=\"text-align: right;\">\n",
       "      <th></th>\n",
       "      <th>state</th>\n",
       "      <th>response</th>\n",
       "      <th>coverage</th>\n",
       "      <th>education</th>\n",
       "      <th>employment_status</th>\n",
       "      <th>gender</th>\n",
       "      <th>location_code</th>\n",
       "      <th>marital_status</th>\n",
       "      <th>policy_type</th>\n",
       "      <th>policy</th>\n",
       "      <th>renew_offer_type</th>\n",
       "      <th>sales_channel</th>\n",
       "      <th>vehicle_class</th>\n",
       "      <th>vehicle_size</th>\n",
       "    </tr>\n",
       "  </thead>\n",
       "  <tbody>\n",
       "    <tr>\n",
       "      <th>0</th>\n",
       "      <td>Washington</td>\n",
       "      <td>No</td>\n",
       "      <td>Basic</td>\n",
       "      <td>Bachelor</td>\n",
       "      <td>Employed</td>\n",
       "      <td>F</td>\n",
       "      <td>Suburban</td>\n",
       "      <td>Married</td>\n",
       "      <td>Corporate Auto</td>\n",
       "      <td>Corporate L3</td>\n",
       "      <td>Offer1</td>\n",
       "      <td>Agent</td>\n",
       "      <td>Two-Door Car</td>\n",
       "      <td>Medsize</td>\n",
       "    </tr>\n",
       "    <tr>\n",
       "      <th>1</th>\n",
       "      <td>Arizona</td>\n",
       "      <td>No</td>\n",
       "      <td>Extended</td>\n",
       "      <td>Bachelor</td>\n",
       "      <td>Unemployed</td>\n",
       "      <td>F</td>\n",
       "      <td>Suburban</td>\n",
       "      <td>Single</td>\n",
       "      <td>Personal Auto</td>\n",
       "      <td>Personal L3</td>\n",
       "      <td>Offer3</td>\n",
       "      <td>Agent</td>\n",
       "      <td>Four-Door Car</td>\n",
       "      <td>Medsize</td>\n",
       "    </tr>\n",
       "    <tr>\n",
       "      <th>2</th>\n",
       "      <td>Nevada</td>\n",
       "      <td>No</td>\n",
       "      <td>Premium</td>\n",
       "      <td>Bachelor</td>\n",
       "      <td>Employed</td>\n",
       "      <td>F</td>\n",
       "      <td>Suburban</td>\n",
       "      <td>Married</td>\n",
       "      <td>Personal Auto</td>\n",
       "      <td>Personal L3</td>\n",
       "      <td>Offer1</td>\n",
       "      <td>Agent</td>\n",
       "      <td>Two-Door Car</td>\n",
       "      <td>Medsize</td>\n",
       "    </tr>\n",
       "    <tr>\n",
       "      <th>3</th>\n",
       "      <td>California</td>\n",
       "      <td>No</td>\n",
       "      <td>Basic</td>\n",
       "      <td>Bachelor</td>\n",
       "      <td>Unemployed</td>\n",
       "      <td>M</td>\n",
       "      <td>Suburban</td>\n",
       "      <td>Married</td>\n",
       "      <td>Corporate Auto</td>\n",
       "      <td>Corporate L2</td>\n",
       "      <td>Offer1</td>\n",
       "      <td>Call Center</td>\n",
       "      <td>SUV</td>\n",
       "      <td>Medsize</td>\n",
       "    </tr>\n",
       "    <tr>\n",
       "      <th>4</th>\n",
       "      <td>Washington</td>\n",
       "      <td>No</td>\n",
       "      <td>Basic</td>\n",
       "      <td>Bachelor</td>\n",
       "      <td>Employed</td>\n",
       "      <td>M</td>\n",
       "      <td>Rural</td>\n",
       "      <td>Single</td>\n",
       "      <td>Personal Auto</td>\n",
       "      <td>Personal L1</td>\n",
       "      <td>Offer1</td>\n",
       "      <td>Agent</td>\n",
       "      <td>Four-Door Car</td>\n",
       "      <td>Medsize</td>\n",
       "    </tr>\n",
       "  </tbody>\n",
       "</table>\n",
       "</div>"
      ],
      "text/plain": [
       "        state response  coverage education employment_status gender  \\\n",
       "0  Washington       No     Basic  Bachelor          Employed      F   \n",
       "1     Arizona       No  Extended  Bachelor        Unemployed      F   \n",
       "2      Nevada       No   Premium  Bachelor          Employed      F   \n",
       "3  California       No     Basic  Bachelor        Unemployed      M   \n",
       "4  Washington       No     Basic  Bachelor          Employed      M   \n",
       "\n",
       "  location_code marital_status     policy_type        policy renew_offer_type  \\\n",
       "0      Suburban        Married  Corporate Auto  Corporate L3           Offer1   \n",
       "1      Suburban         Single   Personal Auto   Personal L3           Offer3   \n",
       "2      Suburban        Married   Personal Auto   Personal L3           Offer1   \n",
       "3      Suburban        Married  Corporate Auto  Corporate L2           Offer1   \n",
       "4         Rural         Single   Personal Auto   Personal L1           Offer1   \n",
       "\n",
       "  sales_channel  vehicle_class vehicle_size  \n",
       "0         Agent   Two-Door Car      Medsize  \n",
       "1         Agent  Four-Door Car      Medsize  \n",
       "2         Agent   Two-Door Car      Medsize  \n",
       "3   Call Center            SUV      Medsize  \n",
       "4         Agent  Four-Door Car      Medsize  "
      ]
     },
     "execution_count": 21,
     "metadata": {},
     "output_type": "execute_result"
    }
   ],
   "source": [
    "# Drop 'customer' column\n",
    "categorical = categorical.drop('customer', axis=1)\n",
    "categorical.head()"
   ]
  },
  {
   "cell_type": "markdown",
   "id": "0cce666d",
   "metadata": {},
   "source": [
    "### 9. Get the correlation matrix for the numerical variables. What is the pair of numerical variables that have the highest correlation? It makes sense, why?"
   ]
  },
  {
   "cell_type": "code",
   "execution_count": 22,
   "id": "aa3cc6e8",
   "metadata": {},
   "outputs": [
    {
     "data": {
      "image/png": "[encoded data removed]",
      "text/plain": [
       "<Figure size 864x720 with 2 Axes>"
      ]
     },
     "metadata": {
      "needs_background": "light"
     },
     "output_type": "display_data"
    }
   ],
   "source": [
    "corr_matrix=numericals.corr(method='pearson')  # default\n",
    "fig, ax = plt.subplots(figsize=(12, 10))\n",
    "ax = sns.heatmap(corr_matrix, annot=True)\n",
    "plt.show()"
   ]
  },
  {
   "cell_type": "markdown",
   "id": "cb8661f1",
   "metadata": {},
   "source": [
    "##### A pair of the highest correlation is 'monthly_premium_auto' and 'total_claim_amount': 0.63.  It means that customers spend more money to  monthly premuim auto because they tend to claim more.    "
   ]
  },
  {
   "cell_type": "markdown",
   "id": "434c9d11",
   "metadata": {},
   "source": [
    "### 10.Define a function that takes a pandas DataFrame as an input and returns two pandas DataFrames: the first containing numerical continuous columns and the second containing numerical discrete columns of the input dataframe. To this end, it might be helpful to count the number of unique values. The function must have an optional argument set by default to 36 to discriminate between continuous and discrete columns. Then, use it to create two new dataframes: continuous_df and discrete_df."
   ]
  },
  {
   "cell_type": "code",
   "execution_count": 27,
   "id": "8d30d260",
   "metadata": {},
   "outputs": [],
   "source": [
    "def separate_numerical_columns(data: pd.DataFrame, threshold=36) -> pd.DataFrame:\n",
    "    '''\n",
    "    This function separate data into one with numerical continous columns and \n",
    "    another one with numerical discrete columns.\n",
    "    The default to discreminate between two is set to 36.\n",
    "    \n",
    "    Input:\n",
    "    pd.DataFrame\n",
    "    int\n",
    "    \n",
    "    Output: pd.DataFrame\n",
    "    \n",
    "    '''\n",
    "    continuous_columns = []\n",
    "    discrete_columns = []\n",
    "\n",
    "    for column in data.columns:\n",
    "        if data[column].dtype in ['int','float']:\n",
    "            if data[column].nunique() > threshold:\n",
    "                continuous_columns.append(column)\n",
    "            else:\n",
    "                discrete_columns.append(column)\n",
    "\n",
    "    continuous_df = data[continuous_columns]\n",
    "    discrete_df = data[discrete_columns]\n",
    "\n",
    "    return continuous_df, discrete_df"
   ]
  },
  {
   "cell_type": "code",
   "execution_count": 55,
   "id": "c94e4d90",
   "metadata": {},
   "outputs": [
    {
     "data": {
      "text/html": [
       "<div>\n",
       "<style scoped>\n",
       "    .dataframe tbody tr th:only-of-type {\n",
       "        vertical-align: middle;\n",
       "    }\n",
       "\n",
       "    .dataframe tbody tr th {\n",
       "        vertical-align: top;\n",
       "    }\n",
       "\n",
       "    .dataframe thead th {\n",
       "        text-align: right;\n",
       "    }\n",
       "</style>\n",
       "<table border=\"1\" class=\"dataframe\">\n",
       "  <thead>\n",
       "    <tr style=\"text-align: right;\">\n",
       "      <th></th>\n",
       "      <th>customer_lifetime_value</th>\n",
       "      <th>income</th>\n",
       "      <th>monthly_premium_auto</th>\n",
       "      <th>months_since_policy_inception</th>\n",
       "      <th>total_claim_amount</th>\n",
       "    </tr>\n",
       "  </thead>\n",
       "  <tbody>\n",
       "    <tr>\n",
       "      <th>0</th>\n",
       "      <td>2763.519279</td>\n",
       "      <td>56274</td>\n",
       "      <td>69</td>\n",
       "      <td>5</td>\n",
       "      <td>384.811147</td>\n",
       "    </tr>\n",
       "    <tr>\n",
       "      <th>1</th>\n",
       "      <td>6979.535903</td>\n",
       "      <td>0</td>\n",
       "      <td>94</td>\n",
       "      <td>42</td>\n",
       "      <td>1131.464935</td>\n",
       "    </tr>\n",
       "    <tr>\n",
       "      <th>2</th>\n",
       "      <td>12887.431650</td>\n",
       "      <td>48767</td>\n",
       "      <td>108</td>\n",
       "      <td>38</td>\n",
       "      <td>566.472247</td>\n",
       "    </tr>\n",
       "    <tr>\n",
       "      <th>3</th>\n",
       "      <td>7645.861827</td>\n",
       "      <td>0</td>\n",
       "      <td>106</td>\n",
       "      <td>65</td>\n",
       "      <td>529.881344</td>\n",
       "    </tr>\n",
       "    <tr>\n",
       "      <th>4</th>\n",
       "      <td>2813.692575</td>\n",
       "      <td>43836</td>\n",
       "      <td>73</td>\n",
       "      <td>44</td>\n",
       "      <td>138.130879</td>\n",
       "    </tr>\n",
       "  </tbody>\n",
       "</table>\n",
       "</div>"
      ],
      "text/plain": [
       "   customer_lifetime_value  income  monthly_premium_auto  \\\n",
       "0              2763.519279   56274                    69   \n",
       "1              6979.535903       0                    94   \n",
       "2             12887.431650   48767                   108   \n",
       "3              7645.861827       0                   106   \n",
       "4              2813.692575   43836                    73   \n",
       "\n",
       "   months_since_policy_inception  total_claim_amount  \n",
       "0                              5          384.811147  \n",
       "1                             42         1131.464935  \n",
       "2                             38          566.472247  \n",
       "3                             65          529.881344  \n",
       "4                             44          138.130879  "
      ]
     },
     "metadata": {},
     "output_type": "display_data"
    },
    {
     "data": {
      "text/html": [
       "<div>\n",
       "<style scoped>\n",
       "    .dataframe tbody tr th:only-of-type {\n",
       "        vertical-align: middle;\n",
       "    }\n",
       "\n",
       "    .dataframe tbody tr th {\n",
       "        vertical-align: top;\n",
       "    }\n",
       "\n",
       "    .dataframe thead th {\n",
       "        text-align: right;\n",
       "    }\n",
       "</style>\n",
       "<table border=\"1\" class=\"dataframe\">\n",
       "  <thead>\n",
       "    <tr style=\"text-align: right;\">\n",
       "      <th></th>\n",
       "      <th>months_since_last_claim</th>\n",
       "      <th>number_of_open_complaints</th>\n",
       "      <th>number_of_policies</th>\n",
       "    </tr>\n",
       "  </thead>\n",
       "  <tbody>\n",
       "    <tr>\n",
       "      <th>0</th>\n",
       "      <td>32</td>\n",
       "      <td>0</td>\n",
       "      <td>1</td>\n",
       "    </tr>\n",
       "    <tr>\n",
       "      <th>1</th>\n",
       "      <td>13</td>\n",
       "      <td>0</td>\n",
       "      <td>8</td>\n",
       "    </tr>\n",
       "    <tr>\n",
       "      <th>2</th>\n",
       "      <td>18</td>\n",
       "      <td>0</td>\n",
       "      <td>2</td>\n",
       "    </tr>\n",
       "    <tr>\n",
       "      <th>3</th>\n",
       "      <td>18</td>\n",
       "      <td>0</td>\n",
       "      <td>7</td>\n",
       "    </tr>\n",
       "    <tr>\n",
       "      <th>4</th>\n",
       "      <td>12</td>\n",
       "      <td>0</td>\n",
       "      <td>1</td>\n",
       "    </tr>\n",
       "  </tbody>\n",
       "</table>\n",
       "</div>"
      ],
      "text/plain": [
       "   months_since_last_claim  number_of_open_complaints  number_of_policies\n",
       "0                       32                          0                   1\n",
       "1                       13                          0                   8\n",
       "2                       18                          0                   2\n",
       "3                       18                          0                   7\n",
       "4                       12                          0                   1"
      ]
     },
     "metadata": {},
     "output_type": "display_data"
    },
    {
     "data": {
      "text/html": [
       "<div>\n",
       "<style scoped>\n",
       "    .dataframe tbody tr th:only-of-type {\n",
       "        vertical-align: middle;\n",
       "    }\n",
       "\n",
       "    .dataframe tbody tr th {\n",
       "        vertical-align: top;\n",
       "    }\n",
       "\n",
       "    .dataframe thead th {\n",
       "        text-align: right;\n",
       "    }\n",
       "</style>\n",
       "<table border=\"1\" class=\"dataframe\">\n",
       "  <thead>\n",
       "    <tr style=\"text-align: right;\">\n",
       "      <th></th>\n",
       "      <th>months_since_last_claim</th>\n",
       "      <th>number_of_open_complaints</th>\n",
       "      <th>number_of_policies</th>\n",
       "    </tr>\n",
       "  </thead>\n",
       "  <tbody>\n",
       "    <tr>\n",
       "      <th>count</th>\n",
       "      <td>9134.000000</td>\n",
       "      <td>9134.000000</td>\n",
       "      <td>9134.000000</td>\n",
       "    </tr>\n",
       "    <tr>\n",
       "      <th>mean</th>\n",
       "      <td>15.097000</td>\n",
       "      <td>0.384388</td>\n",
       "      <td>2.966170</td>\n",
       "    </tr>\n",
       "    <tr>\n",
       "      <th>std</th>\n",
       "      <td>10.073257</td>\n",
       "      <td>0.910384</td>\n",
       "      <td>2.390182</td>\n",
       "    </tr>\n",
       "    <tr>\n",
       "      <th>min</th>\n",
       "      <td>0.000000</td>\n",
       "      <td>0.000000</td>\n",
       "      <td>1.000000</td>\n",
       "    </tr>\n",
       "    <tr>\n",
       "      <th>25%</th>\n",
       "      <td>6.000000</td>\n",
       "      <td>0.000000</td>\n",
       "      <td>1.000000</td>\n",
       "    </tr>\n",
       "    <tr>\n",
       "      <th>50%</th>\n",
       "      <td>14.000000</td>\n",
       "      <td>0.000000</td>\n",
       "      <td>2.000000</td>\n",
       "    </tr>\n",
       "    <tr>\n",
       "      <th>75%</th>\n",
       "      <td>23.000000</td>\n",
       "      <td>0.000000</td>\n",
       "      <td>4.000000</td>\n",
       "    </tr>\n",
       "    <tr>\n",
       "      <th>max</th>\n",
       "      <td>35.000000</td>\n",
       "      <td>5.000000</td>\n",
       "      <td>9.000000</td>\n",
       "    </tr>\n",
       "  </tbody>\n",
       "</table>\n",
       "</div>"
      ],
      "text/plain": [
       "       months_since_last_claim  number_of_open_complaints  number_of_policies\n",
       "count              9134.000000                9134.000000         9134.000000\n",
       "mean                 15.097000                   0.384388            2.966170\n",
       "std                  10.073257                   0.910384            2.390182\n",
       "min                   0.000000                   0.000000            1.000000\n",
       "25%                   6.000000                   0.000000            1.000000\n",
       "50%                  14.000000                   0.000000            2.000000\n",
       "75%                  23.000000                   0.000000            4.000000\n",
       "max                  35.000000                   5.000000            9.000000"
      ]
     },
     "metadata": {},
     "output_type": "display_data"
    }
   ],
   "source": [
    "continous_discrete = separate_numerical_columns(numericals)\n",
    "continuous_df = continous_discrete[0]\n",
    "display(continuous_df.head())\n",
    "discrete_df = continous_discrete[1]\n",
    "display(discrete_df.head())\n",
    "display(discrete_df.describe())"
   ]
  },
  {
   "cell_type": "markdown",
   "id": "275c1946",
   "metadata": {},
   "source": [
    "### 11.Create a function to create a barplot for all the columns of the discrete_df using seaborn, and set the figuresize = (16,16)."
   ]
  },
  {
   "cell_type": "code",
   "execution_count": 48,
   "id": "309e7137",
   "metadata": {},
   "outputs": [],
   "source": [
    "def create_barplots(df:pd.DataFrame)->None:\n",
    "    \n",
    "    '''\n",
    "    This function  create a barplot for all the columns of the discrete_df using seaborn, \n",
    "    and set the figuresize = (16,16)\n",
    "    \n",
    "    Input: pd.DataFrame\n",
    "    Output: None\n",
    "    \n",
    "    '''\n",
    "    # Set the figure size\n",
    "    plt.figure(figsize=(16, 16))\n",
    "    \n",
    "    # Get the column names of the dataframe\n",
    "    columns = df.columns\n",
    "    \n",
    "    # Calculate the number of rows and columns for subplots\n",
    "    n_rows = len(columns) // 3 + (len(columns) % 3 > 0)\n",
    "    n_cols = 3\n",
    "    \n",
    "    # Create subplots\n",
    "    for i, column in enumerate(columns):\n",
    "        plt.subplot(n_rows, n_cols, i+1)\n",
    "        sns.countplot(data=df, x=column)\n",
    "        plt.title(column)\n",
    "        plt.xticks(rotation=90)\n",
    "    \n",
    "    # Adjust the layout\n",
    "    plt.tight_layout()\n",
    "    \n",
    "    # Show the plot\n",
    "    plt.show()\n"
   ]
  },
  {
   "cell_type": "code",
   "execution_count": 49,
   "id": "d6e966e1",
   "metadata": {},
   "outputs": [
    {
     "data": {
      "image/png": "[encoded data removed]",
      "text/plain": [
       "<Figure size 1152x1152 with 3 Axes>"
      ]
     },
     "metadata": {
      "needs_background": "light"
     },
     "output_type": "display_data"
    }
   ],
   "source": [
    "create_barplots(discrete_df)"
   ]
  },
  {
   "cell_type": "markdown",
   "id": "035b247e",
   "metadata": {},
   "source": [
    "### 12.Create a function to create a histogram for all the columns of the continuous_df using seaborn, and set the figuresize = (16,16)"
   ]
  },
  {
   "cell_type": "code",
   "execution_count": 57,
   "id": "f4242b27",
   "metadata": {},
   "outputs": [],
   "source": [
    "def create_histograms(dataframe):\n",
    "    # Set the figure size\n",
    "    plt.figure(figsize=(16, 16))\n",
    "    \n",
    "    # Get the column names of the dataframe\n",
    "    columns = dataframe.columns\n",
    "    \n",
    "    # Calculate the number of rows and columns for subplots\n",
    "    n_rows = len(columns) // 3 + (len(columns) % 3 > 0)\n",
    "    n_cols = 3\n",
    "    \n",
    "    # Create subplots\n",
    "    for i, column in enumerate(columns):\n",
    "        plt.subplot(n_rows, n_cols, i+1)\n",
    "        sns.histplot(data=dataframe[column])\n",
    "        #plt.title(column)\n",
    "    \n",
    "    # Adjust the layout\n",
    "    plt.tight_layout()\n",
    "    \n",
    "    # Show the plot\n",
    "    plt.show()"
   ]
  },
  {
   "cell_type": "code",
   "execution_count": 58,
   "id": "4c88f787",
   "metadata": {},
   "outputs": [
    {
     "data": {
      "image/png": "[encoded data removed]",
      "text/plain": [
       "<Figure size 1152x1152 with 5 Axes>"
      ]
     },
     "metadata": {
      "needs_background": "light"
     },
     "output_type": "display_data"
    }
   ],
   "source": [
    "create_histograms(continuous_df)"
   ]
  },
  {
   "cell_type": "markdown",
   "id": "a8ee22b1",
   "metadata": {},
   "source": [
    "### 13. According to the previous histogram plots, do you think that you will have to apply any transformation?"
   ]
  },
  {
   "cell_type": "markdown",
   "id": "8d1c0d60",
   "metadata": {},
   "source": [
    "#### Looking at the histogram plots, 'customer_lifetime_value', 'monthly_premium_auto' and 'total_claim_amount' are skewed and need some transformation."
   ]
  },
  {
   "cell_type": "code",
   "execution_count": 61,
   "id": "f5663863",
   "metadata": {},
   "outputs": [
    {
     "data": {
      "image/png": "[encoded data removed]",
      "text/plain": [
       "<Figure size 1152x1152 with 3 Axes>"
      ]
     },
     "metadata": {
      "needs_background": "light"
     },
     "output_type": "display_data"
    }
   ],
   "source": [
    "from sklearn.preprocessing import PowerTransformer\n",
    "\n",
    "\n",
    "numerical_columns = ['customer_lifetime_value', 'monthly_premium_auto', 'total_claim_amount']\n",
    "\n",
    "# Initialize the PowerTransformer with the 'yeo-johnson' method\n",
    "transformer = PowerTransformer(method='yeo-johnson')\n",
    "\n",
    "# Transform the selected numerical columns\n",
    "transformed_data = transformer.fit_transform(continuous_df[numerical_columns])\n",
    "\n",
    "# Convert the transformed data back to a DataFrame\n",
    "transformed_df = pd.DataFrame(transformed_data, columns=numerical_columns, index=continuous_df.index)\n",
    "\n",
    "create_histograms(transformed_df)"
   ]
  },
  {
   "cell_type": "markdown",
   "id": "ee7802a4",
   "metadata": {},
   "source": [
    "### 14. Look for outliers in the continuous variables that you have found. Hint: There was a good plot to do that. Define a function to create this kind of plot for the continuous_df. "
   ]
  },
  {
   "cell_type": "markdown",
   "id": "fa2a2d8a",
   "metadata": {},
   "source": [
    "This time, Z-score is used."
   ]
  },
  {
   "cell_type": "code",
   "execution_count": 62,
   "id": "c4c678fe",
   "metadata": {},
   "outputs": [
    {
     "data": {
      "text/plain": [
       "Index(['customer_lifetime_value', 'income', 'monthly_premium_auto',\n",
       "       'months_since_policy_inception', 'total_claim_amount'],\n",
       "      dtype='object')"
      ]
     },
     "execution_count": 62,
     "metadata": {},
     "output_type": "execute_result"
    }
   ],
   "source": [
    "continuous_df.columns"
   ]
  },
  {
   "cell_type": "code",
   "execution_count": 77,
   "id": "420f0bfe",
   "metadata": {},
   "outputs": [],
   "source": [
    "def detect_outliers_zscore(df: pd.DataFrame, column: str, threshold: int=3) ->list:\n",
    "    '''\n",
    "    This function checks a column of a given Pandas DataFrame, computes the z-score\n",
    "    of every value, and flags the value as \"outlier\" if it's values is outside the\n",
    "    [-3,3] range.\n",
    "\n",
    "    Input:\n",
    "    df: Pandas DataFrame\n",
    "\n",
    "    Output:\n",
    "    Python list of indexes for values which are outliers.\n",
    "    '''\n",
    "\n",
    "    df2 = df.copy()\n",
    "    outliers = []\n",
    "\n",
    "    df2['abs-z-score'] = np.abs( ( df2[column] - df2[column].mean() ) / df2[column].std(ddof=1) )\n",
    "\n",
    "    outliers = df2[ df2['abs-z-score'] > threshold ].index.tolist()\n",
    "    \n",
    "    \n",
    "\n",
    "    return outliers"
   ]
  },
  {
   "cell_type": "code",
   "execution_count": 89,
   "id": "fef5054c",
   "metadata": {},
   "outputs": [
    {
     "name": "stdout",
     "output_type": "stream",
     "text": [
      "The index of outliers of'customer_lifetime_value':  [50, 51, 79, 125, 232, 266, 303, 315, 373, 375, 385, 404, 407, 408, 512, 541, 626, 681, 820, 832, 836, 856, 914, 1002, 1078, 1120, 1174, 1184, 1233, 1330, 1382, 1392, 1466, 1506, 1521, 1558, 1640, 1657, 1796, 1812, 1824, 1858, 1861, 1974, 2104, 2116, 2136, 2190, 2191, 2294, 2303, 2488, 2504, 2540, 2600, 2652, 2775, 2786, 2908, 3075, 3145, 3162, 3203, 3210, 3217, 3325, 3457, 3465, 3566, 3581, 3595, 3608, 3628, 3634, 3692, 3695, 3760, 3763, 4056, 4074, 4078, 4126, 4128, 4195, 4298, 4369, 4388, 4426, 4443, 4478, 4483, 4584, 4721, 4803, 4811, 4915, 4930, 4944, 4971, 5037, 5059, 5094, 5109, 5196, 5212, 5272, 5279, 5343, 5346, 5403, 5485, 5496, 5554, 5593, 5629, 5647, 5657, 5716, 5765, 5767, 5804, 5824, 5847, 5944, 5987, 6008, 6015, 6102, 6106, 6107, 6158, 6229, 6251, 6252, 6316, 6329, 6461, 6475, 6554, 6569, 6584, 6605, 6606, 6693, 6793, 6796, 6817, 6858, 6861, 6884, 6904, 6977, 6982, 7002, 7102, 7117, 7140, 7172, 7254, 7283, 7291, 7303, 7304, 7316, 7358, 7383, 7556, 7582, 7612, 7771, 7808, 7810, 7835, 7943, 8041, 8123, 8124, 8191, 8206, 8280, 8331, 8339, 8358, 8414, 8450, 8470, 8501, 8514, 8529, 8584, 8656, 8663, 8687, 8702, 8703, 8732, 8809, 8825, 8852, 8856, 8879, 8898, 8902, 8910, 8959, 8967, 9034, 9049, 9062, 9097, 9110]\n"
     ]
    }
   ],
   "source": [
    "#customer_lifetime_value\n",
    "outliers_zscore1 = detect_outliers_zscore(data, \"customer_lifetime_value\")\n",
    "print(\"The index of outliers of'customer_lifetime_value': \", outliers_zscore1)"
   ]
  },
  {
   "cell_type": "code",
   "execution_count": 105,
   "id": "6368854c",
   "metadata": {},
   "outputs": [
    {
     "name": "stdout",
     "output_type": "stream",
     "text": [
      "The values of Outliers of 'customer_lifetime_value':  [36707.42639, 33473.34946, 58166.55351, 31221.7481, 32269.85139, 29328.04185, 31161.74523, 32654.8383, 33473.34946, 44795.46942, 28685.82785, 29091.23936, 35537.846, 34611.37896, 36057.53702, 35850.59935, 30475.78048, 29194.36639, 32196.60037, 34931.00171, 40224.01359, 44771.29936, 31162.6933, 38445.85587, 45708.65342, 32227.08389, 39400.1854, 32864.4046, 38496.94701, 35062.64795, 30763.25637, 29412.2893, 46611.87375, 32961.15225, 35944.71048, 49221.43073, 36470.3024, 32871.74779, 32613.69038, 48356.96084, 31642.10463, 46805.22306, 37111.65952, 74228.51604, 34708.87261, 31934.62164, 30141.61738, 51337.90677, 28699.89392, 30061.69259, 33873.18123, 33473.34946, 35203.57475, 36946.06393, 41491.74481, 35440.14262, 36897.79765, 29199.81072, 58753.88046, 32306.28587, 52811.49112, 32467.66151, 30118.6554, 46770.94705, 32677.34284, 36229.40842, 47155.62558, 30718.8124, 30850.58677, 30909.22228, 29589.94128, 29577.28414, 33451.7935, 37150.82945, 38410.59556, 39769.55524, 61850.18803, 35013.54166, 29037.47753, 37243.63312, 36181.02892, 60556.19213, 28824.06193, 29232.69297, 42462.96794, 43026.52149, 44468.02303, 34611.37896, 28799.95415, 32450.39142, 35984.10457, 40235.9731, 35900.07644, 41143.09011, 39365.29616, 56675.93768, 43217.21611, 41075.42879, 36860.90798, 35227.29912, 38230.21008, 38320.82017, 35444.31404, 31920.76916, 30154.68108, 40636.66734, 66025.75407, 33718.8424, 36695.90627, 44856.11397, 36293.14678, 34039.05613, 30442.53824, 29049.71315, 30591.61257, 34090.03598, 32643.07651, 83325.38119, 36860.72688, 34611.37896, 43290.49543, 41787.90343, 33053.26869, 41787.90343, 34611.37896, 33473.34946, 41745.00646, 40440.76481, 32861.25616, 35862.99324, 33473.34946, 38545.70689, 31269.27308, 73225.95652, 32437.0535, 31803.30779, 55277.44589, 41855.17315, 51426.24815, 51016.06704, 58207.12842, 42389.00791, 29830.38714, 29676.81386, 35022.45478, 29006.67071, 42561.63183, 29874.74493, 39561.07502, 41787.90343, 34611.37896, 49423.79557, 38055.20953, 32144.64957, 35692.17157, 30286.68586, 32098.32209, 32021.40422, 41787.90343, 67907.2705, 29297.33082, 64618.75715, 41103.24183, 30081.36783, 32725.2974, 33279.77231, 57520.50151, 41787.90343, 32069.87526, 36516.0456, 32474.76977, 33473.34946, 50568.25912, 44520.13577, 31864.8589, 37939.48817, 31215.68581, 30966.31981, 31410.92822, 38887.9034, 29973.41592, 31234.89323, 29706.78459, 32777.30467, 31706.9251, 28622.31443, 39033.08248, 40688.53442, 30313.30977, 40132.01135, 36632.53432, 36168.34106, 46302.07562, 34243.51034, 31516.5084, 35186.25611, 31316.61358, 61134.68307, 30859.36361, 32317.03275, 41787.90343, 42937.34691, 30647.63125, 31758.35391, 33288.16185, 30745.96199, 43019.01278, 32104.69957, 30205.01297, 30104.51969, 34611.37896]\n"
     ]
    }
   ],
   "source": [
    "values = []\n",
    "for i in outliers_zscore1:\n",
    "    values.append(data.loc[i,'customer_lifetime_value'])\n",
    "print(\"The values of Outliers of 'customer_lifetime_value': \",values)"
   ]
  },
  {
   "cell_type": "code",
   "execution_count": 106,
   "id": "7e8f3575",
   "metadata": {},
   "outputs": [
    {
     "name": "stdout",
     "output_type": "stream",
     "text": [
      "Outliers of 'income':  []\n"
     ]
    }
   ],
   "source": [
    "#income\n",
    "outliers_zscore2 = detect_outliers_zscore(data, \"income\")\n",
    "print(\"Outliers of 'income': \", outliers_zscore2)"
   ]
  },
  {
   "cell_type": "code",
   "execution_count": 108,
   "id": "665398a1",
   "metadata": {},
   "outputs": [
    {
     "name": "stdout",
     "output_type": "stream",
     "text": [
      "The index of outliers of 'monthly_premium_auto':  [31, 181, 196, 248, 292, 404, 425, 496, 510, 522, 581, 633, 755, 757, 832, 840, 888, 926, 1011, 1046, 1058, 1071, 1078, 1109, 1133, 1158, 1200, 1240, 1283, 1292, 1300, 1312, 1364, 1383, 1408, 1516, 1552, 1555, 1592, 1687, 1796, 1819, 1858, 1881, 1918, 1974, 2024, 2037, 2116, 2150, 2153, 2180, 2208, 2225, 2261, 2286, 2292, 2294, 2336, 2424, 2452, 2462, 2481, 2504, 2546, 2607, 2623, 2695, 2732, 2895, 2935, 2989, 3008, 3055, 3067, 3156, 3210, 3273, 3424, 3461, 3462, 3469, 3475, 3561, 3760, 3818, 3854, 3889, 3909, 3923, 4010, 4079, 4081, 4086, 4102, 4109, 4126, 4165, 4190, 4298, 4350, 4443, 4498, 4507, 4635, 4719, 4748, 4808, 4813, 4833, 4848, 4888, 4915, 4930, 4944, 5074, 5195, 5216, 5346, 5372, 5485, 5554, 5601, 5645, 5651, 5659, 5661, 5699, 5716, 5723, 5729, 5773, 5827, 5833, 5860, 5884, 5906, 6013, 6175, 6177, 6182, 6208, 6252, 6254, 6407, 6455, 6461, 6516, 6584, 6626, 6654, 6778, 6872, 6905, 6963, 7051, 7127, 7180, 7219, 7223, 7303, 7341, 7366, 7405, 7450, 7455, 7457, 7723, 7741, 7816, 7835, 7870, 7990, 8040, 8082, 8099, 8107, 8167, 8206, 8220, 8266, 8352, 8389, 8430, 8452, 8470, 8479, 8480, 8567, 8597, 8643, 8662, 8734, 8825, 8853, 8911, 8920, 8943, 9026, 9049]\n"
     ]
    }
   ],
   "source": [
    "#monthly_premium_auto\n",
    "outliers_zscore3 = detect_outliers_zscore(data, \"monthly_premium_auto\")\n",
    "print(\"The index of outliers of 'monthly_premium_auto': \", outliers_zscore3)"
   ]
  },
  {
   "cell_type": "code",
   "execution_count": 109,
   "id": "387dd2e4",
   "metadata": {},
   "outputs": [
    {
     "name": "stdout",
     "output_type": "stream",
     "text": [
      "The values of Outliers of 'monthly_premium_auto':  [237, 217, 255, 245, 225, 244, 230, 276, 253, 203, 198, 271, 271, 206, 295, 210, 239, 256, 285, 197, 199, 214, 198, 271, 214, 199, 239, 222, 215, 283, 248, 223, 239, 273, 213, 287, 297, 244, 201, 235, 268, 211, 235, 276, 198, 242, 210, 210, 199, 197, 223, 215, 276, 276, 215, 212, 199, 249, 240, 225, 199, 201, 245, 295, 199, 239, 199, 216, 199, 249, 199, 211, 214, 232, 244, 214, 198, 211, 212, 207, 197, 283, 240, 240, 238, 197, 229, 220, 223, 199, 198, 215, 199, 276, 215, 210, 204, 207, 213, 281, 225, 240, 198, 229, 237, 234, 207, 214, 201, 218, 239, 275, 283, 220, 209, 261, 205, 238, 199, 228, 242, 253, 197, 197, 199, 284, 199, 256, 231, 198, 223, 208, 296, 283, 210, 283, 244, 235, 199, 285, 256, 199, 202, 198, 215, 202, 198, 274, 219, 247, 276, 229, 290, 297, 219, 217, 234, 239, 226, 211, 217, 198, 223, 214, 220, 283, 298, 198, 239, 271, 249, 197, 271, 208, 199, 283, 210, 253, 266, 271, 239, 254, 212, 222, 252, 239, 226, 198, 218, 206, 197, 239, 222, 198, 247, 286, 199, 247, 213, 266]\n"
     ]
    }
   ],
   "source": [
    "values2 = []\n",
    "for i in outliers_zscore3:\n",
    "    values2.append(data.loc[i,'monthly_premium_auto'])\n",
    "print(\"The values of Outliers of 'monthly_premium_auto': \",values2)"
   ]
  },
  {
   "cell_type": "code",
   "execution_count": 72,
   "id": "95958d83",
   "metadata": {},
   "outputs": [
    {
     "name": "stdout",
     "output_type": "stream",
     "text": [
      "Outliers of 'months_since_policy_inception':  []\n"
     ]
    }
   ],
   "source": [
    "#months_since_policy_inception\n",
    "outliers_zscore4 = detect_outliers_zscore(data, \"months_since_policy_inception\")\n",
    "print(\"Outliers of 'months_since_policy_inception': \", outliers_zscore4)"
   ]
  },
  {
   "cell_type": "code",
   "execution_count": 110,
   "id": "5f306049",
   "metadata": {},
   "outputs": [
    {
     "name": "stdout",
     "output_type": "stream",
     "text": [
      "The index of outliers of 'total_claim_amount':  [196, 248, 418, 435, 496, 522, 541, 581, 810, 817, 832, 888, 944, 1008, 1046, 1292, 1312, 1383, 1384, 1504, 1516, 1534, 1541, 1552, 1626, 1823, 1881, 1885, 1974, 1983, 2003, 2208, 2225, 2504, 2550, 2709, 2718, 2895, 2915, 3028, 3327, 3424, 3461, 3468, 3469, 3478, 3557, 3685, 3690, 3737, 3741, 3818, 3848, 3854, 3987, 4045, 4086, 4298, 4331, 4341, 4342, 4350, 4388, 4442, 4498, 4567, 4635, 4682, 4748, 4781, 4836, 4863, 4888, 4898, 4915, 4930, 4964, 5063, 5074, 5133, 5195, 5215, 5485, 5593, 5601, 5623, 5645, 5659, 5699, 5722, 5725, 5729, 5768, 5773, 5774, 5833, 5884, 5906, 5934, 6175, 6177, 6234, 6254, 6262, 6281, 6290, 6455, 6516, 6584, 6596, 6599, 6654, 6830, 6872, 6905, 6922, 7127, 7136, 7221, 7250, 7303, 7328, 7365, 7455, 7457, 7665, 7715, 7720, 7723, 7870, 7978, 8099, 8105, 8160, 8211, 8222, 8255, 8275, 8352, 8358, 8366, 8405, 8452, 8480, 8597, 8643, 8684, 8694, 8822, 8825, 8851, 8853, 8911, 8923, 8943, 9049, 9103, 9125]\n"
     ]
    }
   ],
   "source": [
    "#total_claim_amount \n",
    "outliers_zscore5 = detect_outliers_zscore(data, \"total_claim_amount\")\n",
    "print(\"The index of outliers of 'total_claim_amount': \", outliers_zscore5)"
   ]
  },
  {
   "cell_type": "code",
   "execution_count": 112,
   "id": "70417548",
   "metadata": {},
   "outputs": [
    {
     "name": "stdout",
     "output_type": "stream",
     "text": [
      "The values of Outliers of 'total_claim_amount':  [615.927769, 1122.658899, 1836.0, 2345.413441, 358.281562, 494.395024, 151.528482, 1324.8, 1214.4, 2027.724442, 1577.674417, 1300.8, 1300.8, 1254.137899, 1416.0, 1008.0, 2893.239678, 1228.8, 540.141566, 1418.4, 955.2, 1027.2, 825.657746, 1300.8, 1027.2, 419.26062, 1294.700423, 1253.984948, 1032.0, 1358.4, 632.944366, 1605.6, 1294.700423, 1965.6, 731.559007, 1377.6, 1767.348807, 1171.2, 964.8, 1128.0, 1286.4, 1012.8, 1065.049894, 1324.8, 950.4, 1742.4, 1008.0, 1008.0, 955.2, 945.6, 1070.4, 1032.0, 1324.8, 1324.8, 1032.0, 1017.6, 612.973779, 1195.2, 1152.0, 1080.0, 558.433218, 1064.482165, 889.288242, 1612.962321, 955.2, 1294.700423, 785.82348, 95.693949, 161.61574, 2294.631639, 955.2, 1012.8, 1027.2, 1021.654003, 76.826503, 1027.2, 111.173021, 1012.8, 1526.4, 1490.4, 518.78464, 1358.4, 1152.0, 1261.672708, 1142.4, 1404.868905, 1550.375183, 1056.0, 937.327881, 35.768916, 808.844338, 1032.0, 842.000858, 1324.8, 1032.0, 1008.0, 979.2, 1008.569798, 363.865389, 1499.806352, 1620.0, 1152.0, 1386.824722, 737.737825, 1706.4, 1135.141469, 1490.4, 1027.2, 381.306996, 1046.4, 1294.700423, 1980.0, 1358.4, 2552.343856, 1003.2, 2759.794354, 1476.0, 1142.4, 1062.090461, 1273.741085, 1350.379181, 422.438297, 1418.4, 1418.4, 1238.077611, 1979.444237, 436.695385, 1943.772393, 1108.8, 950.4, 1605.6, 2270.508697, 498.159874, 1358.4, 1008.0, 1358.4, 1756.8, 889.518521, 1956.368115, 2052.0, 1228.8, 832.701335, 969.6, 1396.702365, 1032.0, 1454.4, 950.4, 1972.8, 1328.839129, 562.088587, 1324.8, 1099.2, 1550.596808, 1425.6, 1051.2, 1041.6, 1684.8, 1294.700423, 1084.8, 1012.8, 1562.4, 962.159318, 1070.4, 1027.2, 1056.0, 1358.4, 2145.6, 1425.6, 115.166422, 1300.8, 753.760098, 1367.199081, 1300.8, 998.4, 955.2, 1358.4, 1008.0, 1214.4, 1276.8, 1300.8, 1294.700423, 1828.8, 1272.487601, 1065.6, 1814.4, 1147.2, 1084.8, 1505.230405, 1046.4, 1483.2, 1439.676002, 538.229502, 1123.485329, 2275.265075, 1778.4, 2059.2, 955.2, 1321.584957, 766.322388, 2452.894264]\n"
     ]
    }
   ],
   "source": [
    "values3 = []\n",
    "for i in outliers_zscore3:\n",
    "    values3.append(data.loc[i,'total_claim_amount'])\n",
    "print(\"The values of Outliers of 'total_claim_amount': \",values3)"
   ]
  },
  {
   "cell_type": "code",
   "execution_count": null,
   "id": "f682d279",
   "metadata": {},
   "outputs": [],
   "source": []
  }
 ],
 "metadata": {
  "kernelspec": {
   "display_name": "Python 3 (ipykernel)",
   "language": "python",
   "name": "python3"
  },
  "language_info": {
   "codemirror_mode": {
    "name": "ipython",
    "version": 3
   },
   "file_extension": ".py",
   "mimetype": "text/x-python",
   "name": "python",
   "nbconvert_exporter": "python",
   "pygments_lexer": "ipython3",
   "version": "3.9.12"
  }
 },
 "nbformat": 4,
 "nbformat_minor": 5
}
